{
 "cells": [
  {
   "cell_type": "markdown",
   "id": "828fa6e6",
   "metadata": {},
   "source": [
    "## Load Libraries"
   ]
  },
  {
   "cell_type": "code",
   "execution_count": 1,
   "id": "0f3afc44",
   "metadata": {},
   "outputs": [],
   "source": [
    "import spacy\n",
    "from spacy.language import Language\n",
    "from spacy_langdetect import LanguageDetector"
   ]
  },
  {
   "cell_type": "code",
   "execution_count": 2,
   "id": "2ce837f8",
   "metadata": {},
   "outputs": [],
   "source": [
    "def get_lang_detector(nlp, name):\n",
    "    return LanguageDetector()"
   ]
  },
  {
   "cell_type": "markdown",
   "id": "fc333b3c",
   "metadata": {},
   "source": [
    "## Load Models"
   ]
  },
  {
   "cell_type": "code",
   "execution_count": 3,
   "id": "00d160c3",
   "metadata": {},
   "outputs": [
    {
     "data": {
      "text/plain": [
       "<spacy_langdetect.spacy_langdetect.LanguageDetector at 0x1f0b9e2ed00>"
      ]
     },
     "execution_count": 3,
     "metadata": {},
     "output_type": "execute_result"
    }
   ],
   "source": [
    "nlp = spacy.load(\"en_core_web_sm\")\n",
    "Language.factory(\"language_detector\", func=get_lang_detector)\n",
    "nlp.add_pipe('language_detector', last=True)"
   ]
  },
  {
   "cell_type": "code",
   "execution_count": 4,
   "id": "b9142d43",
   "metadata": {},
   "outputs": [],
   "source": [
    "def multi_lang_ner_system(text):\n",
    "    \"\"\"\n",
    "    Function to detect multiple languages\n",
    "    input: raw text\n",
    "    output: list of enitity dictionary where each dictionary contains the text, language type, start position and end position\n",
    "    \"\"\"\n",
    "    doc = nlp(text)\n",
    "    entity_list = [{'text':sent.text, 'type':sent._.language['language'], 'start_pos':sent.start_char,'end_pos':sent.end_char} for sent in doc.sents]\n",
    "    return entity_list"
   ]
  },
  {
   "cell_type": "code",
   "execution_count": 5,
   "id": "f473073f",
   "metadata": {},
   "outputs": [],
   "source": [
    "text = 'This is an english text. 熟語ルビの例'  "
   ]
  },
  {
   "cell_type": "code",
   "execution_count": 6,
   "id": "bec990d5",
   "metadata": {},
   "outputs": [
    {
     "data": {
      "text/plain": [
       "[{'text': 'This is an english text.',\n",
       "  'type': 'en',\n",
       "  'start_pos': 0,\n",
       "  'end_pos': 24},\n",
       " {'text': '熟語ルビの例', 'type': 'ja', 'start_pos': 25, 'end_pos': 31}]"
      ]
     },
     "execution_count": 6,
     "metadata": {},
     "output_type": "execute_result"
    }
   ],
   "source": [
    "multi_lang_ner_system(text)"
   ]
  },
  {
   "cell_type": "code",
   "execution_count": null,
   "id": "479c4c9c",
   "metadata": {},
   "outputs": [],
   "source": []
  }
 ],
 "metadata": {
  "kernelspec": {
   "display_name": "Python 3",
   "language": "python",
   "name": "python3"
  },
  "language_info": {
   "codemirror_mode": {
    "name": "ipython",
    "version": 3
   },
   "file_extension": ".py",
   "mimetype": "text/x-python",
   "name": "python",
   "nbconvert_exporter": "python",
   "pygments_lexer": "ipython3",
   "version": "3.8.8"
  }
 },
 "nbformat": 4,
 "nbformat_minor": 5
}
